{
 "cells": [
  {
   "cell_type": "code",
   "execution_count": 1,
   "metadata": {
    "collapsed": true
   },
   "outputs": [],
   "source": [
    "#The user enters a cost and then the amount of money given. \n",
    "#The program will figure out the change and the number of quarters, dimes, nickels, pennies needed for the change."
   ]
  },
  {
   "cell_type": "code",
   "execution_count": 2,
   "metadata": {
    "collapsed": true
   },
   "outputs": [],
   "source": [
    "def change_coin(change):\n",
    "    from math import floor, ceil\n",
    "    c = change\n",
    "    print('Change: ',c)\n",
    "    twenty_pn = floor(c / 20.0)\n",
    "    c -= twenty_pn * 20.0\n",
    "    ten_pn = floor(c / 10.0)\n",
    "    c -= ten_pn * 10.0\n",
    "    five_pn = floor(c / 5.0)\n",
    "    c -= five_pn * 5.0\n",
    "    two_pn = floor(c / 2.0)\n",
    "    c -= two_pn * 2.0\n",
    "    one_pn = floor(c / 1.0)\n",
    "    c -= one_pn * 1.0\n",
    "    fifty = floor(c / 0.50)\n",
    "    c -= fifty * 0.50\n",
    "    twenty = floor(c / 0.20)\n",
    "    c -= twenty * 0.20\n",
    "    ten = floor(c/ 0.10)\n",
    "    c -= ten * 0.1\n",
    "    five = floor(c / 0.05)\n",
    "    c -= five * 0.05\n",
    "    two = floor(c / 0.02)\n",
    "    c -= two * 0.02\n",
    "    one = ceil(c / 0.01)\n",
    "    c -= one * 0.01\n",
    "    \n",
    "    print('£20: ',twenty_pn)\n",
    "    print('£10: ',ten_pn)\n",
    "    print('£5: ',five_pn)\n",
    "    print('£2: ',two_pn)\n",
    "    print('£1: ',one_pn)\n",
    "    print('50p: ',fifty)\n",
    "    print('20p: ',twenty)\n",
    "    print('10p: ',ten)\n",
    "    print('5p: ',five)\n",
    "    print('2p: ',two)\n",
    "    print('1p: ',one)\n",
    "    "
   ]
  },
  {
   "cell_type": "code",
   "execution_count": 3,
   "metadata": {
    "collapsed": false
   },
   "outputs": [
    {
     "name": "stdout",
     "output_type": "stream",
     "text": [
      "Change:  14.99\n",
      "£20:  0\n",
      "£10:  1\n",
      "£5:  0\n",
      "£2:  2\n",
      "£1:  0\n",
      "50p:  1\n",
      "20p:  2\n",
      "10p:  0\n",
      "5p:  1\n",
      "2p:  2\n",
      "1p:  1\n"
     ]
    }
   ],
   "source": [
    "change_coin(14.99)"
   ]
  },
  {
   "cell_type": "code",
   "execution_count": 4,
   "metadata": {
    "collapsed": true
   },
   "outputs": [],
   "source": [
    "def tcost_moneydiff():\n",
    "    while True:\n",
    "        try:\n",
    "            tcost = float(input('Total cost: '))\n",
    "            mon_g = float(input('Money given: '))\n",
    "        except:\n",
    "            print('Incorrect Input.')\n",
    "        else:\n",
    "            change = mon_g - tcost\n",
    "            change_coin(change)\n",
    "            break\n",
    "    "
   ]
  },
  {
   "cell_type": "code",
   "execution_count": 6,
   "metadata": {
    "collapsed": false
   },
   "outputs": [
    {
     "name": "stdout",
     "output_type": "stream",
     "text": [
      "Total cost: 14.99\n",
      "Money given: 10\n",
      "Change:  -4.99\n",
      "£20:  -1\n",
      "£10:  1\n",
      "£5:  1\n",
      "£2:  0\n",
      "£1:  0\n",
      "50p:  0\n",
      "20p:  0\n",
      "10p:  0\n",
      "5p:  0\n",
      "2p:  0\n",
      "1p:  1\n"
     ]
    }
   ],
   "source": [
    "tcost_moneydiff()"
   ]
  },
  {
   "cell_type": "code",
   "execution_count": null,
   "metadata": {
    "collapsed": true
   },
   "outputs": [],
   "source": []
  }
 ],
 "metadata": {
  "anaconda-cloud": {},
  "kernelspec": {
   "display_name": "Python [default]",
   "language": "python",
   "name": "python3"
  },
  "language_info": {
   "codemirror_mode": {
    "name": "ipython",
    "version": 3
   },
   "file_extension": ".py",
   "mimetype": "text/x-python",
   "name": "python",
   "nbconvert_exporter": "python",
   "pygments_lexer": "ipython3",
   "version": "3.5.2"
  }
 },
 "nbformat": 4,
 "nbformat_minor": 1
}
