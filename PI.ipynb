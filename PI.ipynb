{
 "cells": [
  {
   "cell_type": "code",
   "execution_count": null,
   "metadata": {
    "collapsed": true
   },
   "outputs": [],
   "source": [
    "#Find PI to the Nth Digit \n",
    "#Enter a number and have the program generate PI up to that many decimal places.\n",
    "#Keep a limit to how far the program will go."
   ]
  },
  {
   "cell_type": "code",
   "execution_count": 36,
   "metadata": {
    "collapsed": false
   },
   "outputs": [],
   "source": [
    "from decimal import Decimal as Dec, getcontext as gc\n",
    "\n",
    "def PI(maxK, prec, disp): # parameter defaults chosen to gain 1000+ digits within a few seconds\n",
    "    gc().prec = prec\n",
    "    K, M, L, X, S = 6, 1, 13591409, 1, 13591409 \n",
    "    for k in range(1, maxK+1):\n",
    "        M = (K**3 - (K<<4)) * M / k**3 \n",
    "        L += 545140134\n",
    "        X *= -262537412640768000\n",
    "        S += Dec(M * L) / X\n",
    "        K += 12\n",
    "    pi = 426880 * Dec(10005).sqrt() / S\n",
    "    pi = Dec(str(pi)[:disp]) # drop few digits of precision for accuracy\n",
    "    return pi"
   ]
  },
  {
   "cell_type": "code",
   "execution_count": 28,
   "metadata": {
    "collapsed": false
   },
   "outputs": [
    {
     "ename": "InvalidOperation",
     "evalue": "[<class 'decimal.InvalidOperation'>]",
     "output_type": "error",
     "traceback": [
      "\u001b[0;31m---------------------------------------------------------------------------\u001b[0m",
      "\u001b[0;31mInvalidOperation\u001b[0m                          Traceback (most recent call last)",
      "\u001b[0;32m<ipython-input-28-77b7b2f6a963>\u001b[0m in \u001b[0;36m<module>\u001b[0;34m()\u001b[0m\n\u001b[0;32m----> 1\u001b[0;31m \u001b[0mPI\u001b[0m\u001b[1;33m(\u001b[0m\u001b[1;36m99\u001b[0m\u001b[1;33m,\u001b[0m\u001b[1;36m108\u001b[0m\u001b[1;33m,\u001b[0m\u001b[1;36m1000\u001b[0m\u001b[1;33m)\u001b[0m\u001b[1;33m\u001b[0m\u001b[0m\n\u001b[0m",
      "\u001b[0;32m<ipython-input-15-845b7912ae08>\u001b[0m in \u001b[0;36mPI\u001b[0;34m(maxK, prec, disp)\u001b[0m\n\u001b[1;32m      8\u001b[0m         \u001b[0mL\u001b[0m \u001b[1;33m+=\u001b[0m \u001b[1;36m545140134\u001b[0m\u001b[1;33m\u001b[0m\u001b[0m\n\u001b[1;32m      9\u001b[0m         \u001b[0mX\u001b[0m \u001b[1;33m*=\u001b[0m \u001b[1;33m-\u001b[0m\u001b[1;36m262537412640768000\u001b[0m\u001b[1;33m\u001b[0m\u001b[0m\n\u001b[0;32m---> 10\u001b[0;31m         \u001b[0mS\u001b[0m \u001b[1;33m+=\u001b[0m \u001b[0mDec\u001b[0m\u001b[1;33m(\u001b[0m\u001b[0mM\u001b[0m \u001b[1;33m*\u001b[0m \u001b[0mL\u001b[0m\u001b[1;33m)\u001b[0m \u001b[1;33m/\u001b[0m \u001b[0mX\u001b[0m\u001b[1;33m\u001b[0m\u001b[0m\n\u001b[0m\u001b[1;32m     11\u001b[0m         \u001b[0mK\u001b[0m \u001b[1;33m+=\u001b[0m \u001b[1;36m12\u001b[0m\u001b[1;33m\u001b[0m\u001b[0m\n\u001b[1;32m     12\u001b[0m     \u001b[0mpi\u001b[0m \u001b[1;33m=\u001b[0m \u001b[1;36m426880\u001b[0m \u001b[1;33m*\u001b[0m \u001b[0mDec\u001b[0m\u001b[1;33m(\u001b[0m\u001b[1;36m10005\u001b[0m\u001b[1;33m)\u001b[0m\u001b[1;33m.\u001b[0m\u001b[0msqrt\u001b[0m\u001b[1;33m(\u001b[0m\u001b[1;33m)\u001b[0m \u001b[1;33m/\u001b[0m \u001b[0mS\u001b[0m\u001b[1;33m\u001b[0m\u001b[0m\n",
      "\u001b[0;31mInvalidOperation\u001b[0m: [<class 'decimal.InvalidOperation'>]"
     ]
    }
   ],
   "source": [
    "PI(99,108,1000)"
   ]
  },
  {
   "cell_type": "code",
   "execution_count": 3,
   "metadata": {
    "collapsed": true
   },
   "outputs": [],
   "source": [
    "def askparameters():\n",
    "    while True:\n",
    "        try:\n",
    "            a = int(input('Input total number of iterations: '))\n",
    "            b = int(input('Input precision of calculations: '))\n",
    "            c = int(input('Input total number of digits displayed: '))\n",
    "        except:\n",
    "            print('Wrong input please try again.')\n",
    "        else:\n",
    "            print(a)\n",
    "            print(b)\n",
    "            print(c)\n",
    "            break\n",
    "            "
   ]
  },
  {
   "cell_type": "code",
   "execution_count": 5,
   "metadata": {
    "collapsed": false
   },
   "outputs": [
    {
     "name": "stdout",
     "output_type": "stream",
     "text": [
      "Input total number of iterations: a\n",
      "Wrong input please try again.\n",
      "Input total number of iterations: d\n",
      "Wrong input please try again.\n",
      "Input total number of iterations: 1\n",
      "Input precision of calculations: 2\n",
      "Input total number of digits displayed: 3\n",
      "1\n",
      "2\n",
      "3\n"
     ]
    }
   ],
   "source": [
    "askparameters()"
   ]
  },
  {
   "cell_type": "code",
   "execution_count": 39,
   "metadata": {
    "collapsed": false
   },
   "outputs": [],
   "source": [
    "def cal_pi():\n",
    "    from decimal import Decimal as Dec, getcontext as gc\n",
    "    a = 0\n",
    "    b = 0\n",
    "    c = 0\n",
    "    while True:\n",
    "        try:\n",
    "            a = int(input('Input total number of iterations: '))\n",
    "            b = int(input('Input precision of calculations: '))\n",
    "            c = int(input('Input total number of digits displayed: '))\n",
    "            d = PI(a,b,c)\n",
    "        except:\n",
    "            print('Wrong input please try again.')\n",
    "        else:\n",
    "            print('\\n')\n",
    "            print('Iterations: ' ,a)\n",
    "            print('Precision: ' ,b)\n",
    "            print('Digits: ' ,c)\n",
    "            print('\\n')\n",
    "            print('PI: ', d)\n",
    "            \n",
    "            break"
   ]
  },
  {
   "cell_type": "code",
   "execution_count": 40,
   "metadata": {
    "collapsed": false
   },
   "outputs": [
    {
     "name": "stdout",
     "output_type": "stream",
     "text": [
      "Input total number of iterations: 10\n",
      "Input precision of calculations: 12\n",
      "Input total number of digits displayed: 13\n",
      "\n",
      "\n",
      "Iterations:  10\n",
      "Precision:  12\n",
      "Digits:  13\n",
      "\n",
      "\n",
      "PI:  3.14159265359\n"
     ]
    }
   ],
   "source": [
    "cal_pi()"
   ]
  },
  {
   "cell_type": "code",
   "execution_count": null,
   "metadata": {
    "collapsed": true
   },
   "outputs": [],
   "source": []
  }
 ],
 "metadata": {
  "anaconda-cloud": {},
  "kernelspec": {
   "display_name": "Python [default]",
   "language": "python",
   "name": "python3"
  },
  "language_info": {
   "codemirror_mode": {
    "name": "ipython",
    "version": 3
   },
   "file_extension": ".py",
   "mimetype": "text/x-python",
   "name": "python",
   "nbconvert_exporter": "python",
   "pygments_lexer": "ipython3",
   "version": "3.5.2"
  }
 },
 "nbformat": 4,
 "nbformat_minor": 1
}
