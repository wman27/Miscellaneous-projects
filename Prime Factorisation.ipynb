{
 "cells": [
  {
   "cell_type": "code",
   "execution_count": 2,
   "metadata": {
    "collapsed": true
   },
   "outputs": [],
   "source": [
    "#Have the user enter a number and find all Prime Factors (if there are any) and display them."
   ]
  },
  {
   "cell_type": "code",
   "execution_count": 3,
   "metadata": {
    "collapsed": true
   },
   "outputs": [],
   "source": [
    "def factorise(n):\n",
    "    lst = []\n",
    "    for x in range(1,n+1):\n",
    "        if n % x == 0:\n",
    "            lst.append(x)\n",
    "    lst.reverse()           \n",
    "    return lst \n",
    "    "
   ]
  },
  {
   "cell_type": "code",
   "execution_count": 4,
   "metadata": {
    "collapsed": false
   },
   "outputs": [
    {
     "name": "stdout",
     "output_type": "stream",
     "text": [
      "[999, 333, 111, 37, 27, 9, 3, 1]\n"
     ]
    }
   ],
   "source": [
    "c = factorise(999)\n",
    "print(c)"
   ]
  },
  {
   "cell_type": "code",
   "execution_count": 5,
   "metadata": {
    "collapsed": false
   },
   "outputs": [],
   "source": [
    "def prime(lst):\n",
    "    lst2 = []\n",
    "    for x in lst:\n",
    "        flst = []\n",
    "        for y in range(2,x+1):\n",
    "           \n",
    "            if x % y == 0:\n",
    "                flst.append(y)\n",
    "        lst2.append(flst)    \n",
    "    return lst2"
   ]
  },
  {
   "cell_type": "code",
   "execution_count": 6,
   "metadata": {
    "collapsed": false
   },
   "outputs": [
    {
     "data": {
      "text/plain": [
       "[[3, 9, 27, 37, 111, 333, 999],\n",
       " [3, 9, 37, 111, 333],\n",
       " [3, 37, 111],\n",
       " [37],\n",
       " [3, 9, 27],\n",
       " [3, 9],\n",
       " [3],\n",
       " []]"
      ]
     },
     "execution_count": 6,
     "metadata": {},
     "output_type": "execute_result"
    }
   ],
   "source": [
    "prime(c)"
   ]
  },
  {
   "cell_type": "code",
   "execution_count": 7,
   "metadata": {
    "collapsed": true
   },
   "outputs": [],
   "source": [
    "def primes(lst):\n",
    "    lst3 = []\n",
    "    for box in lst:\n",
    "        lst4 = []\n",
    "        if len(box) == 1:\n",
    "            lst3 += box\n",
    "    return lst3"
   ]
  },
  {
   "cell_type": "code",
   "execution_count": 8,
   "metadata": {
    "collapsed": false
   },
   "outputs": [
    {
     "data": {
      "text/plain": [
       "[37, 3]"
      ]
     },
     "execution_count": 8,
     "metadata": {},
     "output_type": "execute_result"
    }
   ],
   "source": [
    "primes(prime(c))"
   ]
  },
  {
   "cell_type": "code",
   "execution_count": 9,
   "metadata": {
    "collapsed": false
   },
   "outputs": [],
   "source": [
    "def find_primes():\n",
    "    final = []\n",
    "    while True:\n",
    "        try:\n",
    "            n = int(input('Input n integer: '))\n",
    "        except:\n",
    "            print('Incorrect input')\n",
    "        else:\n",
    "            fctr_lst = factorise(n)\n",
    "            priming_lst = prime(fctr_lst)\n",
    "            final = primes(priming_lst)\n",
    "            break\n",
    "    return final"
   ]
  },
  {
   "cell_type": "code",
   "execution_count": 12,
   "metadata": {
    "collapsed": false
   },
   "outputs": [
    {
     "name": "stdout",
     "output_type": "stream",
     "text": [
      "Input n integer: 1234169\n"
     ]
    },
    {
     "data": {
      "text/plain": [
       "[1471, 839]"
      ]
     },
     "execution_count": 12,
     "metadata": {},
     "output_type": "execute_result"
    }
   ],
   "source": [
    "find_primes()"
   ]
  },
  {
   "cell_type": "code",
   "execution_count": null,
   "metadata": {
    "collapsed": true
   },
   "outputs": [],
   "source": []
  }
 ],
 "metadata": {
  "anaconda-cloud": {},
  "kernelspec": {
   "display_name": "Python [default]",
   "language": "python",
   "name": "python3"
  },
  "language_info": {
   "codemirror_mode": {
    "name": "ipython",
    "version": 3
   },
   "file_extension": ".py",
   "mimetype": "text/x-python",
   "name": "python",
   "nbconvert_exporter": "python",
   "pygments_lexer": "ipython3",
   "version": "3.5.2"
  }
 },
 "nbformat": 4,
 "nbformat_minor": 1
}
