{
 "cells": [
  {
   "cell_type": "code",
   "execution_count": 1,
   "metadata": {
    "collapsed": true
   },
   "outputs": [],
   "source": [
    "#Develop a converter to convert a decimal number to binary or a binary number to its decimal equivalent."
   ]
  },
  {
   "cell_type": "code",
   "execution_count": null,
   "metadata": {
    "collapsed": true
   },
   "outputs": [],
   "source": [
    "class conv_inttobnry(object):\n",
    "    #integer to binary\n",
    "    \n",
    "    def __init__(self,number=0):\n",
    "        self.number = number\n",
    "        \n",
    "    def sequence(self):\n",
    "        sqn_val = 0\n",
    "        sqn_lst = []\n",
    "        for i in range(self.number):\n",
    "            sqn_val = 2 ** i\n",
    "            if sqn_val > self.number:\n",
    "                break\n",
    "            else:\n",
    "                sqn_lst.append(sqn_val)\n",
    "        return sqn_lst\n",
    "    \n",
    "    def bin_up(self):\n",
    "        binar_lst = self.sequence()\n",
    "        binar_lst.reverse()\n",
    "        cnvrt_num = self.number\n",
    "        numstrng = ''\n",
    "        for num in binar_lst:\n",
    "            if num <= cnvrt_num :\n",
    "                numstrng += str(1)\n",
    "                cnvrt_num -= num\n",
    "            else:\n",
    "                numstrng += str(0)\n",
    "        return int(numstrng)"
   ]
  },
  {
   "cell_type": "code",
   "execution_count": 4,
   "metadata": {
    "collapsed": false
   },
   "outputs": [],
   "source": [
    "class conv_bintoint(object):\n",
    "    #binary to int\n",
    "    \n",
    "    def __init__(self,binary=0):\n",
    "        self.binary = binary\n",
    "        \n",
    "    def lnth_bin(self):\n",
    "        return len(str(self.binary))\n",
    "    \n",
    "    def int_up(self):\n",
    "        length = self.lnth_bin()\n",
    "        int_strng = str(self.binary)\n",
    "        integer = 0\n",
    "        for i in range(length):\n",
    "            if int_strng[i] == '1':\n",
    "                integer +=2**(length-1-i)\n",
    "        return integer"
   ]
  },
  {
   "cell_type": "code",
   "execution_count": 6,
   "metadata": {
    "collapsed": true
   },
   "outputs": [],
   "source": [
    "class conv_fractobin(object):\n",
    "    #decimal to binary\n",
    "    \n",
    "    def __init__(self,decimal=0):\n",
    "        self.decimal = decimal\n",
    "    \n",
    "    def fbin_up(self):\n",
    "        binary = ''\n",
    "        num = self.decimal\n",
    "        while num != 0:\n",
    "            if num*2 >= 1:\n",
    "                binary += str(1)\n",
    "                num = num*2 -1\n",
    "            else:\n",
    "                binary += str(0)\n",
    "                num = num*2\n",
    "            if num == 0:\n",
    "                break\n",
    "        return float('0.' + binary)"
   ]
  },
  {
   "cell_type": "code",
   "execution_count": 9,
   "metadata": {
    "collapsed": true
   },
   "outputs": [],
   "source": [
    "class conv_bintofrac(object):\n",
    "    def __init__(self,binary=0):\n",
    "        self.binary = binary\n",
    "        \n",
    "    def flength(self):\n",
    "        return len(str(self.binary))\n",
    "    \n",
    "    def fracup(self):\n",
    "        length = self.flength()\n",
    "        int_strng = str(self.binary)\n",
    "        frac = 0\n",
    "        for i in range(length):\n",
    "            if int_strng[i] == '1':\n",
    "                frac +=2**(-i+1)\n",
    "        return frac"
   ]
  },
  {
   "cell_type": "code",
   "execution_count": 12,
   "metadata": {
    "collapsed": true
   },
   "outputs": [],
   "source": [
    "def btoinback():\n",
    "    from math import floor\n",
    "    value = input('Binary or Non_negative number? B/N:  ')\n",
    "    if value == 'N':\n",
    "        number = float(input('Input your number: '))\n",
    "        numint = conv_inttobnry(floor(number))\n",
    "        numdec = conv_fractobin(number - floor(number))\n",
    "        print(numint.bin_up() + numdec.fbin_up())\n",
    "        \n",
    "    elif value == 'B':\n",
    "        number = float(input('Input your binary: '))\n",
    "        binint = conv_bintoint(floor(number))\n",
    "        binfrac = conv_bintofrac(number - floor(number))\n",
    "        print(binint.int_up())\n",
    "        print(binfrac.binary)\n",
    "        print(binint.int_up() + binfrac.fracup())"
   ]
  },
  {
   "cell_type": "code",
   "execution_count": null,
   "metadata": {
    "collapsed": false,
    "scrolled": true
   },
   "outputs": [
    {
     "name": "stdout",
     "output_type": "stream",
     "text": [
      "Binary or Non_negative number? B/N:  N\n",
      "Input your number: 129.01\n",
      "10000001.0000001\n"
     ]
    }
   ],
   "source": [
    "btoinback()"
   ]
  },
  {
   "cell_type": "code",
   "execution_count": 1,
   "metadata": {
    "collapsed": true
   },
   "outputs": [],
   "source": [
    "from math import floor"
   ]
  },
  {
   "cell_type": "code",
   "execution_count": 2,
   "metadata": {
    "collapsed": false
   },
   "outputs": [
    {
     "data": {
      "text/plain": [
       "0.10999999999999943"
      ]
     },
     "execution_count": 2,
     "metadata": {},
     "output_type": "execute_result"
    }
   ],
   "source": [
    "11.11 - floor(11.11)"
   ]
  },
  {
   "cell_type": "code",
   "execution_count": 3,
   "metadata": {
    "collapsed": false
   },
   "outputs": [
    {
     "data": {
      "text/plain": [
       "11"
      ]
     },
     "execution_count": 3,
     "metadata": {},
     "output_type": "execute_result"
    }
   ],
   "source": [
    "floor(11.11)"
   ]
  },
  {
   "cell_type": "code",
   "execution_count": 5,
   "metadata": {
    "collapsed": false
   },
   "outputs": [
    {
     "data": {
      "text/plain": [
       "0.10999999999999943"
      ]
     },
     "execution_count": 5,
     "metadata": {},
     "output_type": "execute_result"
    }
   ],
   "source": [
    "11.11 -11.0"
   ]
  },
  {
   "cell_type": "code",
   "execution_count": 6,
   "metadata": {
    "collapsed": true
   },
   "outputs": [],
   "source": [
    "from decimal import Decimal, getcontext"
   ]
  },
  {
   "cell_type": "code",
   "execution_count": 9,
   "metadata": {
    "collapsed": false
   },
   "outputs": [
    {
     "data": {
      "text/plain": [
       "Decimal('0.1099999999999994315658113919198513031005859375')"
      ]
     },
     "execution_count": 9,
     "metadata": {},
     "output_type": "execute_result"
    }
   ],
   "source": [
    "Decimal(11.11 - floor(11.11))"
   ]
  },
  {
   "cell_type": "code",
   "execution_count": 8,
   "metadata": {
    "collapsed": false
   },
   "outputs": [
    {
     "data": {
      "text/plain": [
       "Decimal('1')"
      ]
     },
     "execution_count": 8,
     "metadata": {},
     "output_type": "execute_result"
    }
   ],
   "source": [
    "Decimal(1)"
   ]
  },
  {
   "cell_type": "code",
   "execution_count": null,
   "metadata": {
    "collapsed": true
   },
   "outputs": [],
   "source": [
    ""
   ]
  }
 ],
 "metadata": {
  "anaconda-cloud": {},
  "kernelspec": {
   "display_name": "Python [default]",
   "language": "python",
   "name": "python3"
  },
  "language_info": {
   "codemirror_mode": {
    "name": "ipython",
    "version": 3.0
   },
   "file_extension": ".py",
   "mimetype": "text/x-python",
   "name": "python",
   "nbconvert_exporter": "python",
   "pygments_lexer": "ipython3",
   "version": "3.5.2"
  }
 },
 "nbformat": 4,
 "nbformat_minor": 0
}