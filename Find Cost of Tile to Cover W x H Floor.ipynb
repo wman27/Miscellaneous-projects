{
 "cells": [
  {
   "cell_type": "code",
   "execution_count": 1,
   "metadata": {
    "collapsed": true
   },
   "outputs": [],
   "source": [
    "#Calculate the total cost of tile it would take to cover a floor plan of width and length, using a cost entered by the user."
   ]
  },
  {
   "cell_type": "code",
   "execution_count": 58,
   "metadata": {
    "collapsed": true
   },
   "outputs": [],
   "source": [
    "from math import ceil\n",
    "class floor_area(object):\n",
    "    def __init__(self,width,length,t_width,t_length,t_cost):\n",
    "        self.width = width   # width of floor\n",
    "        self.length = length #length of floor\n",
    "        self.t_width = t_width #width of tile\n",
    "        self.t_length = t_length #length of tile\n",
    "        self.t_cost = t_cost #cost of tile\n",
    "    \n",
    "    def floor_area(self):\n",
    "        return self.width * self.length\n",
    "    \n",
    "    def tile_size(self):\n",
    "        return self.t_width * self.t_length\n",
    "    \n",
    "    def total_tiles(self):\n",
    "        return ceil(self.floor_area() / self.tile_size())\n",
    "    \n",
    "    def total_cost(self):\n",
    "        return self.total_tiles() * self.t_cost"
   ]
  },
  {
   "cell_type": "code",
   "execution_count": 75,
   "metadata": {
    "collapsed": true
   },
   "outputs": [],
   "source": [
    "def calculate_totaltc():\n",
    "    from decimal import Decimal, getcontext\n",
    "    from IPython.display import clear_output\n",
    "    getcontext().prec = 6\n",
    "    while True:       \n",
    "        try:\n",
    "            w = float(input('Width of floor: '))\n",
    "            l = float(input('Length of floor: '))\n",
    "            t_w = float(input('Width of tile: '))\n",
    "            t_l = float(input('Length of tile: '))\n",
    "            t_c = float(input('Cost per tile: '))\n",
    "        except:\n",
    "            clear_output()\n",
    "            print('Incorrect input please try again.')\n",
    "            print('')\n",
    "        else:\n",
    "            flr = floor_area(w, l, t_w, t_l, t_c)\n",
    "            t = Decimal(str(flr.total_cost())[:6])\n",
    "            t_n = flr.total_tiles()\n",
    "            print('\\n')\n",
    "            print('Total cost: ', t)\n",
    "            print('Total number of tiles: ', t_n)\n",
    "            break"
   ]
  },
  {
   "cell_type": "code",
   "execution_count": 76,
   "metadata": {
    "collapsed": false
   },
   "outputs": [
    {
     "name": "stdout",
     "output_type": "stream",
     "text": [
      "Width of floor: 10\n",
      "Length of floor: 10\n",
      "Width of tile: 2.3\n",
      "Length of tile: 2.3\n",
      "Cost per tile: 1.23\n",
      "\n",
      "\n",
      "Total cost:  23.37\n",
      "Total number of tiles:  19\n"
     ]
    }
   ],
   "source": [
    "calculate_totaltc()"
   ]
  },
  {
   "cell_type": "code",
   "execution_count": null,
   "metadata": {
    "collapsed": true
   },
   "outputs": [],
   "source": []
  }
 ],
 "metadata": {
  "anaconda-cloud": {},
  "kernelspec": {
   "display_name": "Python [default]",
   "language": "python",
   "name": "python3"
  },
  "language_info": {
   "codemirror_mode": {
    "name": "ipython",
    "version": 3
   },
   "file_extension": ".py",
   "mimetype": "text/x-python",
   "name": "python",
   "nbconvert_exporter": "python",
   "pygments_lexer": "ipython3",
   "version": "3.5.2"
  }
 },
 "nbformat": 4,
 "nbformat_minor": 1
}
